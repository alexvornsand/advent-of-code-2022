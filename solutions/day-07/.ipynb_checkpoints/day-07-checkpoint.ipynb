{
 "cells": [
  {
   "cell_type": "code",
   "execution_count": 47,
   "id": "585f0033",
   "metadata": {},
   "outputs": [],
   "source": [
    "import re\n",
    "\n",
    "log = open('input.txt', 'r').read().split('\\n')[:-1]"
   ]
  },
  {
   "cell_type": "code",
   "execution_count": 51,
   "id": "17f09cc8",
   "metadata": {},
   "outputs": [],
   "source": [
    "def makeFileSpace(log, partTwo=False):\n",
    "\n",
    "    def mapLogToTree(log):\n",
    "        tree = {'/':{}}\n",
    "        lineage = ['/']\n",
    "        for line in log:\n",
    "            if line[0:4] == '$ cd':\n",
    "                if line[5:] == '/':\n",
    "                    env = tree['/']\n",
    "                    lineage = ['/']\n",
    "                elif line[5:] == '..':\n",
    "                    env = tree\n",
    "                    lineage.pop(-1)\n",
    "                    for directory in lineage:\n",
    "                        env = env[directory]\n",
    "                else:\n",
    "                    env = env[line[5:]]\n",
    "                    lineage.append(line[5:])\n",
    "            elif line[0:4] == '$ ls':\n",
    "                pass\n",
    "            elif line[0:3] == 'dir':\n",
    "                env[line[4:]] = {}\n",
    "            else:\n",
    "                fileInfo = re.search(r'(\\d+)\\s(.*)', line)\n",
    "                size = int(fileInfo.groups()[0])\n",
    "                name = fileInfo.groups()[1]\n",
    "                env[name] = size\n",
    "        return(tree)\n",
    "\n",
    "    def navigateTree(tree, lineage=''):\n",
    "        dirDict = {}\n",
    "        for key in tree.keys():\n",
    "            if lineage == '':\n",
    "                dictName = key\n",
    "            else:\n",
    "                dictName = lineage + '-' + key\n",
    "            dirDict[dictName] = 0\n",
    "            if type(tree[key]) is dict:\n",
    "                for sub in tree[key].keys():\n",
    "                    if type(tree[key][sub]) is int:\n",
    "                        dirDict[dictName] += tree[key][sub]\n",
    "                    else:\n",
    "                        subDict = navigateTree({sub: tree[key][sub]}, dictName)\n",
    "                        dirDict[dictName] += subDict[dictName + '-' + sub]\n",
    "                        dirDict.update(subDict)\n",
    "        return(dirDict)      \n",
    "\n",
    "    tree = mapLogToTree(log)\n",
    "    dirs = navigateTree(tree)\n",
    "    \n",
    "    if partTwo is False:\n",
    "        return(sum([dir for dir in dirs.values() if dir <= 100000]))\n",
    "    else:\n",
    "        return(min([dir for dir in dirs.values() if dir >= (30000000 + dirs['/'] - 70000000)]))"
   ]
  },
  {
   "cell_type": "code",
   "execution_count": 50,
   "id": "6d9d389e",
   "metadata": {},
   "outputs": [
    {
     "data": {
      "text/plain": [
       "1444896"
      ]
     },
     "execution_count": 50,
     "metadata": {},
     "output_type": "execute_result"
    }
   ],
   "source": [
    "makeFileSpace(log)"
   ]
  },
  {
   "cell_type": "code",
   "execution_count": 52,
   "id": "c66b3337",
   "metadata": {},
   "outputs": [
    {
     "data": {
      "text/plain": [
       "404395"
      ]
     },
     "execution_count": 52,
     "metadata": {},
     "output_type": "execute_result"
    }
   ],
   "source": [
    "makeFileSpace(log, True)"
   ]
  }
 ],
 "metadata": {
  "kernelspec": {
   "display_name": "Python 3 (ipykernel)",
   "language": "python",
   "name": "python3"
  },
  "language_info": {
   "codemirror_mode": {
    "name": "ipython",
    "version": 3
   },
   "file_extension": ".py",
   "mimetype": "text/x-python",
   "name": "python",
   "nbconvert_exporter": "python",
   "pygments_lexer": "ipython3",
   "version": "3.9.13"
  }
 },
 "nbformat": 4,
 "nbformat_minor": 5
}
