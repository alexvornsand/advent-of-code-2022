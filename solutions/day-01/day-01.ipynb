{
 "cells": [
  {
   "cell_type": "code",
   "execution_count": 29,
   "id": "9fa6afaa",
   "metadata": {},
   "outputs": [],
   "source": [
    "foods = [[int(f) for f in b.split('\\n')] for b in open('input.txt', 'r').read()[:-1].split('\\n\\n')]"
   ]
  },
  {
   "cell_type": "code",
   "execution_count": 40,
   "id": "841eacda",
   "metadata": {},
   "outputs": [],
   "source": [
    "def mostFoods(foods, partTwo = False):\n",
    "    if partTwo:\n",
    "        n = 3\n",
    "    else:\n",
    "        n = 1\n",
    "    return(sum(sorted([sum(food) for food in foods], reverse = True)[:n]))"
   ]
  },
  {
   "cell_type": "code",
   "execution_count": 42,
   "id": "64c40af4",
   "metadata": {},
   "outputs": [
    {
     "data": {
      "text/plain": [
       "206104"
      ]
     },
     "execution_count": 42,
     "metadata": {},
     "output_type": "execute_result"
    }
   ],
   "source": [
    "mostFoods(foods, True)"
   ]
  }
 ],
 "metadata": {
  "kernelspec": {
   "display_name": "Python 3 (ipykernel)",
   "language": "python",
   "name": "python3"
  },
  "language_info": {
   "codemirror_mode": {
    "name": "ipython",
    "version": 3
   },
   "file_extension": ".py",
   "mimetype": "text/x-python",
   "name": "python",
   "nbconvert_exporter": "python",
   "pygments_lexer": "ipython3",
   "version": "3.9.13"
  }
 },
 "nbformat": 4,
 "nbformat_minor": 5
}
