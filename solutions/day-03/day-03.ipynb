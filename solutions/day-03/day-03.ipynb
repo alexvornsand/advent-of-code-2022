{
 "cells": [
  {
   "cell_type": "code",
   "execution_count": 68,
   "id": "677ee5a0",
   "metadata": {},
   "outputs": [],
   "source": [
    "napsacks = [(n[:int(1/2 * len(n))], n[int(1/2 * len(n)):]) for n in open('input.txt', 'r').read().split('\\n')[:-1]]"
   ]
  },
  {
   "cell_type": "code",
   "execution_count": 69,
   "id": "d8db78b6",
   "metadata": {},
   "outputs": [],
   "source": [
    "def countPriority(napsacks, partTwo=False):\n",
    "    alphaIndex = [chr(x) for x in range(97,123)] + [chr(x) for x in range(65,91)]\n",
    "    if partTwo is False:\n",
    "        return(sum([alphaIndex.index(list(set(n[0]).intersection(n[1]))[0]) + 1 for n in napsacks]))\n",
    "    else:\n",
    "        return(sum([alphaIndex.index(list(set(''.join(napsacks[3 * i])).intersection(''.join(napsacks[3 * i + 1])).intersection(''.join(napsacks[3 * i + 2])))[0]) + 1 for i in range(int(len(napsacks) / 3))]))"
   ]
  },
  {
   "cell_type": "code",
   "execution_count": 70,
   "id": "eb65a177",
   "metadata": {},
   "outputs": [
    {
     "data": {
      "text/plain": [
       "7746"
      ]
     },
     "execution_count": 70,
     "metadata": {},
     "output_type": "execute_result"
    }
   ],
   "source": [
    "countPriority(napsacks)"
   ]
  },
  {
   "cell_type": "code",
   "execution_count": 71,
   "id": "c9160465",
   "metadata": {},
   "outputs": [
    {
     "data": {
      "text/plain": [
       "2604"
      ]
     },
     "execution_count": 71,
     "metadata": {},
     "output_type": "execute_result"
    }
   ],
   "source": [
    "countPriority(napsacks, True)"
   ]
  },
  {
   "cell_type": "code",
   "execution_count": 62,
   "id": "d3f6534a",
   "metadata": {},
   "outputs": [],
   "source": []
  },
  {
   "cell_type": "code",
   "execution_count": 56,
   "id": "a43bfedd",
   "metadata": {},
   "outputs": [
    {
     "data": {
      "text/plain": [
       "{'r'}"
      ]
     },
     "execution_count": 56,
     "metadata": {},
     "output_type": "execute_result"
    }
   ],
   "source": []
  },
  {
   "cell_type": "code",
   "execution_count": null,
   "id": "6526c321",
   "metadata": {},
   "outputs": [],
   "source": []
  }
 ],
 "metadata": {
  "kernelspec": {
   "display_name": "Python 3 (ipykernel)",
   "language": "python",
   "name": "python3"
  },
  "language_info": {
   "codemirror_mode": {
    "name": "ipython",
    "version": 3
   },
   "file_extension": ".py",
   "mimetype": "text/x-python",
   "name": "python",
   "nbconvert_exporter": "python",
   "pygments_lexer": "ipython3",
   "version": "3.9.13"
  }
 },
 "nbformat": 4,
 "nbformat_minor": 5
}
