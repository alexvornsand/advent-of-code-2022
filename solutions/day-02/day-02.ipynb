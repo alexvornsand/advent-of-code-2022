{
 "cells": [
  {
   "cell_type": "code",
   "execution_count": 5,
   "id": "48690a86",
   "metadata": {},
   "outputs": [],
   "source": [
    "# advent of code\n",
    "# day 2\n",
    "\n",
    "# part 1\n",
    "rounds = [r.split(' ') for r in open('input.txt', 'r').read().split('\\n')[:-1]]"
   ]
  },
  {
   "cell_type": "code",
   "execution_count": 39,
   "id": "c1f1d47b",
   "metadata": {},
   "outputs": [],
   "source": [
    "def scoreRounds(rounds, partTwo=False):\n",
    "    intMap = {\n",
    "        'A':1,\n",
    "        'B':2,\n",
    "        'C':3,\n",
    "        'X':1,\n",
    "        'Y':2,\n",
    "        'Z':3\n",
    "    }\n",
    "    if partTwo is False:\n",
    "        return(sum([intMap[round[1]] + 3 * ((intMap[round[1]] - intMap[round[0]] + 1) % 3) for round in rounds]))\n",
    "    else: \n",
    "        return(sum([(3 * intMap[round[1]]) + ((intMap[round[0]] + intMap[round[1]]) % 3) - 2 for round in rounds]))"
   ]
  },
  {
   "cell_type": "code",
   "execution_count": 40,
   "id": "4175d89e",
   "metadata": {},
   "outputs": [
    {
     "data": {
      "text/plain": [
       "11386"
      ]
     },
     "execution_count": 40,
     "metadata": {},
     "output_type": "execute_result"
    }
   ],
   "source": [
    "scoreRounds(rounds)"
   ]
  },
  {
   "cell_type": "code",
   "execution_count": 41,
   "id": "9b7b0ae7",
   "metadata": {},
   "outputs": [
    {
     "data": {
      "text/plain": [
       "13600"
      ]
     },
     "execution_count": 41,
     "metadata": {},
     "output_type": "execute_result"
    }
   ],
   "source": [
    "scoreRounds(rounds, True)"
   ]
  },
  {
   "cell_type": "code",
   "execution_count": null,
   "id": "d70def37",
   "metadata": {},
   "outputs": [],
   "source": []
  }
 ],
 "metadata": {
  "kernelspec": {
   "display_name": "Python 3 (ipykernel)",
   "language": "python",
   "name": "python3"
  },
  "language_info": {
   "codemirror_mode": {
    "name": "ipython",
    "version": 3
   },
   "file_extension": ".py",
   "mimetype": "text/x-python",
   "name": "python",
   "nbconvert_exporter": "python",
   "pygments_lexer": "ipython3",
   "version": "3.9.13"
  }
 },
 "nbformat": 4,
 "nbformat_minor": 5
}
