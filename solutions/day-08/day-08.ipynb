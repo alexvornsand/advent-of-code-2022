{
 "cells": [
  {
   "cell_type": "code",
   "execution_count": 69,
   "id": "2b8132ac",
   "metadata": {},
   "outputs": [],
   "source": [
    "grid = [[int(x) for x in g] for g in open('input.txt', 'r').read().split('\\n')[:-1]]"
   ]
  },
  {
   "cell_type": "code",
   "execution_count": 62,
   "id": "36c1ce07",
   "metadata": {},
   "outputs": [
    {
     "data": {
      "text/plain": [
       "[[3, 0, 3, 7, 3],\n",
       " [2, 5, 5, 1, 2],\n",
       " [6, 5, 3, 3, 2],\n",
       " [3, 3, 5, 4, 9],\n",
       " [3, 5, 3, 9, 0]]"
      ]
     },
     "execution_count": 62,
     "metadata": {},
     "output_type": "execute_result"
    }
   ],
   "source": [
    "input = '''30373\n",
    "25512\n",
    "65332\n",
    "33549\n",
    "35390'''\n",
    "grid = [[int(x) for x in g] for g in input.split('\\n')]\n",
    "grid"
   ]
  },
  {
   "cell_type": "code",
   "execution_count": 70,
   "id": "67772b29",
   "metadata": {},
   "outputs": [],
   "source": [
    "def findTreehouse(grid, partTwo=False):\n",
    "    visible = (2 * (len(grid) - 1)) + (2 * (len(grid[0]) - 1))\n",
    "    scenicScore = 0\n",
    "    for y in range(1, len(grid) - 1):\n",
    "        for x in range(1, len(grid[0]) - 1):\n",
    "            dirDict = {}\n",
    "            dirDict['N'] = [grid[y][x] > grid[n][x] for n in range(y + 1, len(grid))]\n",
    "            dirDict['E'] = [grid[y][x] > grid[y][e] for e in range(x)][::-1]\n",
    "            dirDict['S'] = [grid[y][x] > grid[s][x] for s in range(y)][::-1]\n",
    "            dirDict['W'] = [grid[y][x] > grid[y][w] for w in range(x + 1, len(grid[0]))]\n",
    "            if any([all(dirDict['N']), all(dirDict['E']), all(dirDict['S']), all(dirDict['W'])]):\n",
    "                visible += 1\n",
    "            visibleTrees = {}\n",
    "            for d in dirDict.keys():\n",
    "                visibleTrees[d] = 0\n",
    "                for v in dirDict[d]:\n",
    "                    if v is True:\n",
    "                        visibleTrees[d] += 1\n",
    "                    else:\n",
    "                        visibleTrees[d] += 1\n",
    "                        break\n",
    "            treeScore = visibleTrees['N'] * visibleTrees['E'] * visibleTrees['S'] * visibleTrees['W']\n",
    "            if treeScore > scenicScore:\n",
    "                scenicScore = treeScore\n",
    "    if partTwo is False:\n",
    "        return(visible)\n",
    "    else:\n",
    "        return(scenicScore)        "
   ]
  },
  {
   "cell_type": "code",
   "execution_count": 71,
   "id": "0f1e53f3",
   "metadata": {},
   "outputs": [
    {
     "data": {
      "text/plain": [
       "1870"
      ]
     },
     "execution_count": 71,
     "metadata": {},
     "output_type": "execute_result"
    }
   ],
   "source": [
    "findTreehouse(grid)"
   ]
  },
  {
   "cell_type": "code",
   "execution_count": 72,
   "id": "3e65f3c4",
   "metadata": {},
   "outputs": [
    {
     "data": {
      "text/plain": [
       "517440"
      ]
     },
     "execution_count": 72,
     "metadata": {},
     "output_type": "execute_result"
    }
   ],
   "source": [
    "findTreehouse(grid, True)"
   ]
  },
  {
   "cell_type": "code",
   "execution_count": 35,
   "id": "255d1f78",
   "metadata": {},
   "outputs": [],
   "source": [
    "x = [1,2,3]"
   ]
  },
  {
   "cell_type": "code",
   "execution_count": 36,
   "id": "1c6bc5ac",
   "metadata": {},
   "outputs": [
    {
     "ename": "AttributeError",
     "evalue": "'list' object has no attribute 'name'",
     "output_type": "error",
     "traceback": [
      "\u001b[1;31m---------------------------------------------------------------------------\u001b[0m",
      "\u001b[1;31mAttributeError\u001b[0m                            Traceback (most recent call last)",
      "\u001b[1;32m~\\AppData\\Local\\Temp\\ipykernel_18764\\2487077073.py\u001b[0m in \u001b[0;36m<module>\u001b[1;34m\u001b[0m\n\u001b[1;32m----> 1\u001b[1;33m \u001b[0mx\u001b[0m\u001b[1;33m.\u001b[0m\u001b[0mname\u001b[0m\u001b[1;33m(\u001b[0m\u001b[1;33m)\u001b[0m\u001b[1;33m\u001b[0m\u001b[1;33m\u001b[0m\u001b[0m\n\u001b[0m",
      "\u001b[1;31mAttributeError\u001b[0m: 'list' object has no attribute 'name'"
     ]
    }
   ],
   "source": [
    "x.name()"
   ]
  },
  {
   "cell_type": "code",
   "execution_count": null,
   "id": "ca5c38c3",
   "metadata": {},
   "outputs": [],
   "source": []
  }
 ],
 "metadata": {
  "kernelspec": {
   "display_name": "Python 3 (ipykernel)",
   "language": "python",
   "name": "python3"
  },
  "language_info": {
   "codemirror_mode": {
    "name": "ipython",
    "version": 3
   },
   "file_extension": ".py",
   "mimetype": "text/x-python",
   "name": "python",
   "nbconvert_exporter": "python",
   "pygments_lexer": "ipython3",
   "version": "3.9.13"
  }
 },
 "nbformat": 4,
 "nbformat_minor": 5
}
